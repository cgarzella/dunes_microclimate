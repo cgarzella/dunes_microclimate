{
 "cells": [
  {
   "cell_type": "code",
   "execution_count": 38,
   "metadata": {},
   "outputs": [],
   "source": [
    "#Import the neccessary libraries and functions \n",
    "%matplotlib inline\n",
    "import pandas as pd\n",
    "import matplotlib.pyplot as plt\n",
    "import numpy as np\n",
    "import re\n",
    "import os\n",
    "import glob\n",
    "from matplotlib import rcParams\n",
    "from pandas import Series, DataFrame\n",
    "import seaborn as sb\n",
    "import csv\n",
    "import datetime as datetime\n",
    "from datetime import datetime\n",
    "import warnings\n",
    "from tkinter import filedialog\n",
    "from tkinter import *\n",
    "warnings.filterwarnings('ignore')\n",
    "\n",
    "from degree_days import bug_degree_day, plant_degree_day\n",
    "from time_of_day import hot_cold_time\n",
    "from data_readin import data_read_in\n",
    "from qa_qc_tests import persist_test, range_test, step_test\n",
    "\n",
    "#To change the figure size you can use below parameters.\n",
    "rcParams['figure.figsize'] = 10, 8 \n",
    "sb.set_style('whitegrid')\n"
   ]
  },
  {
   "cell_type": "code",
   "execution_count": 33,
   "metadata": {},
   "outputs": [
    {
     "name": "stdout",
     "output_type": "stream",
     "text": [
      "['yearly_avgtemp_report.csv', 'T197198_9871281pole.csv', 'Large_Differences_Between_Readings.csv', 'full_dataframe.csv', 'T197198_9926710pole.csv', 'T6667_9926779tube.csv', 'TI23_9926761pole.csv', 'T6667_9926756ground.csv', 'TI23_9926732tube.csv', 'weekly_avgtemp_report.csv', 'monthly_count_report.csv', 'yearly_count_report.csv', 'monthly_avgtemp_report.csv', 'TI21_9926653tube.csv', 'TI23_10140293ground.csv', 'TI30_9926658tube.csv', 'output_report.csv', 'TI30_10140219pole.csv', 'weekly_count_report.csv']\n"
     ]
    }
   ],
   "source": [
    "#Read in the directory using an interactive interface\n",
    "#root = Tk()\n",
    "#root.withdraw()\n",
    "#folder_selected = filedialog.askdirectory()\n",
    "#path = folder_selected\n",
    "path = '/Users/mgrover1/USGS_test/'\n",
    "extension = 'csv'\n",
    "os.chdir(path)\n",
    "result = [i for i in glob.glob('*.{}'.format(extension))]\n",
    "print(result)\n"
   ]
  },
  {
   "cell_type": "code",
   "execution_count": 39,
   "metadata": {},
   "outputs": [
    {
     "ename": "NameError",
     "evalue": "name 'result' is not defined",
     "output_type": "error",
     "traceback": [
      "\u001b[0;31m---------------------------------------------------------------------------\u001b[0m",
      "\u001b[0;31mNameError\u001b[0m                                 Traceback (most recent call last)",
      "\u001b[0;32m<ipython-input-39-c5b3b4cd5ab4>\u001b[0m in \u001b[0;36m<module>\u001b[0;34m()\u001b[0m\n\u001b[1;32m      1\u001b[0m \u001b[0;31m#Complete the data read in process by pulling the data into a single dataframe\u001b[0m\u001b[0;34m\u001b[0m\u001b[0;34m\u001b[0m\u001b[0;34m\u001b[0m\u001b[0m\n\u001b[1;32m      2\u001b[0m \u001b[0;31m#Exports the dataframe to its own file\u001b[0m\u001b[0;34m\u001b[0m\u001b[0;34m\u001b[0m\u001b[0;34m\u001b[0m\u001b[0m\n\u001b[0;32m----> 3\u001b[0;31m \u001b[0mx\u001b[0m \u001b[0;34m=\u001b[0m \u001b[0mdata_read_in\u001b[0m\u001b[0;34m(\u001b[0m\u001b[0mresult\u001b[0m\u001b[0;34m)\u001b[0m\u001b[0;34m\u001b[0m\u001b[0;34m\u001b[0m\u001b[0m\n\u001b[0m",
      "\u001b[0;32m~/Documents/microclimate/data_readin.py\u001b[0m in \u001b[0;36mdata_read_in\u001b[0;34m(file_list)\u001b[0m\n\u001b[1;32m      1\u001b[0m \u001b[0;32mdef\u001b[0m \u001b[0mdata_read_in\u001b[0m\u001b[0;34m(\u001b[0m\u001b[0mresult\u001b[0m\u001b[0;34m)\u001b[0m\u001b[0;34m:\u001b[0m\u001b[0;34m\u001b[0m\u001b[0;34m\u001b[0m\u001b[0m\n\u001b[0;32m----> 2\u001b[0;31m     \u001b[0mresult\u001b[0m \u001b[0;34m=\u001b[0m \u001b[0mresult\u001b[0m\u001b[0;34m\u001b[0m\u001b[0;34m\u001b[0m\u001b[0m\n\u001b[0m\u001b[1;32m      3\u001b[0m     \u001b[0mappended_data\u001b[0m\u001b[0;34m=\u001b[0m\u001b[0;34m[\u001b[0m\u001b[0;34m]\u001b[0m\u001b[0;34m\u001b[0m\u001b[0;34m\u001b[0m\u001b[0m\n\u001b[1;32m      4\u001b[0m     \u001b[0mpd\u001b[0m\u001b[0;34m.\u001b[0m\u001b[0mDataFrame\u001b[0m\u001b[0;34m(\u001b[0m\u001b[0;34m)\u001b[0m\u001b[0;34m\u001b[0m\u001b[0;34m\u001b[0m\u001b[0m\n\u001b[1;32m      5\u001b[0m     \u001b[0;32mfor\u001b[0m \u001b[0mi\u001b[0m \u001b[0;32min\u001b[0m \u001b[0mresult\u001b[0m\u001b[0;34m:\u001b[0m\u001b[0;34m\u001b[0m\u001b[0;34m\u001b[0m\u001b[0m\n",
      "\u001b[0;31mNameError\u001b[0m: name 'result' is not defined"
     ]
    }
   ],
   "source": [
    "#Complete the data read in process by pulling the data into a single dataframe\n",
    "#Exports the dataframe to its own file \n",
    "x = data_read_in(result)\n"
   ]
  },
  {
   "cell_type": "code",
   "execution_count": 20,
   "metadata": {},
   "outputs": [],
   "source": [
    "#QA/QC Analysis \n",
    "\n",
    "#PERSISTENCE TEST\n",
    "#Checks to see if there are too many values in a row\n",
    "persist_df_result = persist_test(temps, 10, 2)\n",
    "x['persist_test'] = persist_df_result['result']\n",
    "\n",
    "#RANGE TEST\n",
    "#Set the maximum and minimum temperature values you would expect from the sensor \n",
    "range_test_df = range_test(temps,90,5)\n",
    "x['range_test']= range_test_df['result']\n",
    "\n",
    "#STEP TEST\n",
    "#Run the step test, with the second value being the maximum difference you would expect between time steps\n",
    "step_test_df = step_test(temps,5)\n",
    "x['step_test'] = step_test_df['result']\n",
    "\n",
    "#Tests to see if each timestep satisfies all the QA/QC components \n",
    "all_tests = []\n",
    "for i in range(len(x)):\n",
    "    if x['step_test'][i] & x['range_test'][i] & x['persist_test'][i] == True:\n",
    "        all_tests.append('Pass')\n",
    "    else:\n",
    "        all_tests.append(\"Fail\")\n",
    "x['all_tests'] = all_tests\n",
    "\n"
   ]
  },
  {
   "cell_type": "code",
   "execution_count": null,
   "metadata": {},
   "outputs": [],
   "source": [
    "#Calculate different degree days \n",
    "x['Plant_Degree_Day'] = plant_degree_day(x)\n",
    "x['Bug_Degree_Day'] = bug_degree_day(x)"
   ]
  },
  {
   "cell_type": "code",
   "execution_count": null,
   "metadata": {
    "collapsed": true
   },
   "outputs": [],
   "source": [
    "#Create reports detailing the number of temperature observations for each given sensor \n",
    "#Yearly Report \n",
    "\n",
    "#Create the yearly report for both count and average temperature \n",
    "yearly_report_count = x.groupby(['site','type','Year'])['temp'].count()\n",
    "yearly_report_mean = x.groupby(['site','type','Year'])['temp'].mean()\n",
    "\n",
    "#Exports the yearly reports\n",
    "yearly_report_count.to_csv('yearly_count_report.csv',header=True)\n",
    "yearly_report_mean.to_csv('yearly_avgtemp_report.csv',header=True)\n",
    "\n",
    "\n",
    "#Create the monthly reports for both count and average temperature \n",
    "monthly_report_count = x.groupby(['site','type','Year','Month'])['temp'].count()\n",
    "monthly_report_mean = x.groupby(['site','type','Year','Month'])['temp'].mean()\n",
    "\n",
    "#Exports the monthly reports \n",
    "monthly_report_count.to_csv('monthly_count_report.csv',header=True)\n",
    "monthly_report_mean.to_csv('monthly_avgtemp_report.csv',header=True)\n",
    "\n",
    "\n",
    "#Create the weekly report for both count and average temperature \n",
    "weekly_report_count = x.groupby(['site','type','Year','Month','Week'])['temp'].count()\n",
    "weekly_report_mean = x.groupby(['site','type','Year','Month','Week'])['temp'].mean()\n",
    "\n",
    "#Creates the reports \n",
    "weekly_report_count.to_csv('weekly_count_report.csv',header=True)\n",
    "weekly_report_mean.to_csv('weekly_avgtemp_report.csv',header=True)\n",
    "\n",
    "#Create the weekly report for both count and sum of plant/bug degree days\n",
    "\n",
    "weekly_report_sum_plant = x.groupby(['site','type','Year','Month','Week'])['Plant_Degree_Day'].sum()\n",
    "weekly_report_sum_bug = x.groupby(['site','type','Year','Month','Week'])['Bug_Degree_Day'].sum()\n",
    "\n",
    "#Creates the reports \n",
    "weekly_report_sum_plant.to_csv('weekly_sum_plant_report.csv',header=True)\n",
    "weekly_report_sum_bug.to_csv('weekly_sum_bug_report.csv',header=True)\n"
   ]
  },
  {
   "cell_type": "code",
   "execution_count": null,
   "metadata": {
    "collapsed": true
   },
   "outputs": [],
   "source": []
  }
 ],
 "metadata": {
  "kernelspec": {
   "display_name": "Python 3",
   "language": "python",
   "name": "python3"
  },
  "language_info": {
   "codemirror_mode": {
    "name": "ipython",
    "version": 3
   },
   "file_extension": ".py",
   "mimetype": "text/x-python",
   "name": "python",
   "nbconvert_exporter": "python",
   "pygments_lexer": "ipython3",
   "version": "3.6.8"
  }
 },
 "nbformat": 4,
 "nbformat_minor": 2
}
